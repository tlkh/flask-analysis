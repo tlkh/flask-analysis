{
 "cells": [
  {
   "cell_type": "markdown",
   "id": "random-stage",
   "metadata": {},
   "source": [
    "Scanning flask's package dependencies to check for code-related security issues.\n",
    "\n",
    "We ignore some non-security related or trivial violations:\n",
    "\n",
    "* `S101`: Use of assert detected. The enclosed code will be removed when compiling to optimised byte code.\n",
    "* `E203`: whitespace\n",
    "* `E402`: module level import not at top of file\n",
    "* `E501`: line too long\n",
    "* `CFQ002`: too many function arguments"
   ]
  },
  {
   "cell_type": "markdown",
   "id": "ahead-arena",
   "metadata": {},
   "source": [
    "#### Flask Source Code"
   ]
  },
  {
   "cell_type": "code",
   "execution_count": 1,
   "id": "supposed-dividend",
   "metadata": {},
   "outputs": [
    {
     "name": "stdout",
     "output_type": "stream",
     "text": [
      "./flask/src/flask/config.py:118:1: S102 Use of exec detected.\n",
      "./flask/src/flask/config.py:118:17: DUO105 use of \"exec\" is insecure\n",
      "./flask/src/flask/config.py:118:22: DUO110 use of \"compile\" is insecure\n",
      "./flask/src/flask/sessions.py:313:34: DUO130 insecure use of \"hashlib\" module\n",
      "./flask/src/flask/app.py:349:5: CFQ001 Function __init__ has length 122 that exceeds max allowed length 100\n",
      "./flask/src/flask/app.py:1942:13: E722 do not use bare 'except'\n",
      "./flask/src/flask/cli.py:886:1: S307 Use of possibly insecure function - consider using safer ast.literal_eval.\n",
      "./flask/src/flask/cli.py:886:13: DUO104 use of \"eval\" is insecure\n",
      "./flask/src/flask/cli.py:886:18: DUO110 use of \"compile\" is insecure\n",
      "./flask/src/flask/cli.py:960:7: T101 fixme found (TODO)\n",
      "./flask/src/flask/__init__.py:1:1: F401 'markupsafe.escape' imported but unused\n",
      "./flask/src/flask/__init__.py:2:1: F401 'markupsafe.Markup' imported but unused\n",
      "./flask/src/flask/__init__.py:3:1: F401 'werkzeug.exceptions.abort' imported but unused\n",
      "./flask/src/flask/__init__.py:4:1: F401 'werkzeug.utils.redirect' imported but unused\n",
      "./flask/src/flask/__init__.py:6:1: F401 '.json' imported but unused\n",
      "./flask/src/flask/__init__.py:7:1: F401 '.app.Flask' imported but unused\n",
      "./flask/src/flask/__init__.py:8:1: F401 '.app.Request' imported but unused\n",
      "./flask/src/flask/__init__.py:9:1: F401 '.app.Response' imported but unused\n",
      "./flask/src/flask/__init__.py:10:1: F401 '.blueprints.Blueprint' imported but unused\n",
      "./flask/src/flask/__init__.py:11:1: F401 '.config.Config' imported but unused\n",
      "./flask/src/flask/__init__.py:12:1: F401 '.ctx.after_this_request' imported but unused\n",
      "./flask/src/flask/__init__.py:13:1: F401 '.ctx.copy_current_request_context' imported but unused\n",
      "./flask/src/flask/__init__.py:14:1: F401 '.ctx.has_app_context' imported but unused\n",
      "./flask/src/flask/__init__.py:15:1: F401 '.ctx.has_request_context' imported but unused\n",
      "./flask/src/flask/__init__.py:16:1: F401 '.globals._app_ctx_stack' imported but unused\n",
      "./flask/src/flask/__init__.py:17:1: F401 '.globals._request_ctx_stack' imported but unused\n",
      "./flask/src/flask/__init__.py:18:1: F401 '.globals.current_app' imported but unused\n",
      "./flask/src/flask/__init__.py:19:1: F401 '.globals.g' imported but unused\n",
      "./flask/src/flask/__init__.py:20:1: F401 '.globals.request' imported but unused\n",
      "./flask/src/flask/__init__.py:21:1: F401 '.globals.session' imported but unused\n",
      "./flask/src/flask/__init__.py:22:1: F401 '.helpers.flash' imported but unused\n",
      "./flask/src/flask/__init__.py:23:1: F401 '.helpers.get_flashed_messages' imported but unused\n",
      "./flask/src/flask/__init__.py:24:1: F401 '.helpers.get_template_attribute' imported but unused\n",
      "./flask/src/flask/__init__.py:25:1: F401 '.helpers.make_response' imported but unused\n",
      "./flask/src/flask/__init__.py:26:1: F401 '.helpers.safe_join' imported but unused\n",
      "./flask/src/flask/__init__.py:27:1: F401 '.helpers.send_file' imported but unused\n",
      "./flask/src/flask/__init__.py:28:1: F401 '.helpers.send_from_directory' imported but unused\n",
      "./flask/src/flask/__init__.py:29:1: F401 '.helpers.stream_with_context' imported but unused\n",
      "./flask/src/flask/__init__.py:30:1: F401 '.helpers.url_for' imported but unused\n",
      "./flask/src/flask/__init__.py:31:1: F401 '.json.jsonify' imported but unused\n",
      "./flask/src/flask/__init__.py:32:1: F401 '.signals.appcontext_popped' imported but unused\n",
      "./flask/src/flask/__init__.py:33:1: F401 '.signals.appcontext_pushed' imported but unused\n",
      "./flask/src/flask/__init__.py:34:1: F401 '.signals.appcontext_tearing_down' imported but unused\n",
      "./flask/src/flask/__init__.py:35:1: F401 '.signals.before_render_template' imported but unused\n",
      "./flask/src/flask/__init__.py:36:1: F401 '.signals.got_request_exception' imported but unused\n",
      "./flask/src/flask/__init__.py:37:1: F401 '.signals.message_flashed' imported but unused\n",
      "./flask/src/flask/__init__.py:38:1: F401 '.signals.request_finished' imported but unused\n",
      "./flask/src/flask/__init__.py:39:1: F401 '.signals.request_started' imported but unused\n",
      "./flask/src/flask/__init__.py:40:1: F401 '.signals.request_tearing_down' imported but unused\n",
      "./flask/src/flask/__init__.py:41:1: F401 '.signals.signals_available' imported but unused\n",
      "./flask/src/flask/__init__.py:42:1: F401 '.signals.template_rendered' imported but unused\n",
      "./flask/src/flask/__init__.py:43:1: F401 '.templating.render_template' imported but unused\n",
      "./flask/src/flask/__init__.py:44:1: F401 '.templating.render_template_string' imported but unused\n",
      "./flask/src/flask/helpers.py:382:2: E800 Found commented out code\n",
      "./flask/src/flask/scaffold.py:74:5: CFQ001 Function __init__ has length 123 that exceeds max allowed length 100\n",
      "./flask/src/flask/scaffold.py:849:2: E800 Found commented out code\n",
      "./flask/src/flask/scaffold.py:853:2: E800 Found commented out code\n"
     ]
    }
   ],
   "source": [
    "!flake8 --extend-ignore=S101,E203,E402,E501,CFQ002 ./flask/src"
   ]
  },
  {
   "cell_type": "markdown",
   "id": "going-hours",
   "metadata": {},
   "source": [
    "#### Flask Tests"
   ]
  },
  {
   "cell_type": "code",
   "execution_count": 2,
   "id": "honest-registration",
   "metadata": {},
   "outputs": [
    {
     "name": "stdout",
     "output_type": "stream",
     "text": [
      "./flask/tests/test_config.py:13:1: S105 Possible hardcoded password: 'config'\n",
      "./flask/tests/test_config.py:51:1: S106 Possible hardcoded password: 'config'\n",
      "./flask/tests/test_config.py:64:1: S105 Possible hardcoded password: 'config'\n",
      "./flask/tests/test_templating.py:394:1: S201 A Flask app appears to be run with debug=True, which exposes the Werkzeug debugger and allows the execution of arbitrary code.\n",
      "./flask/tests/conftest.py:48:1: S105 Possible hardcoded password: 'test key'\n",
      "./flask/tests/conftest.py:180:1: S404 Consider possible security implications associated with subprocess module.\n",
      "./flask/tests/conftest.py:182:1: S603 subprocess call - check for execution of untrusted input.\n",
      "./flask/tests/test_reqctx.py:36:1: S110 Try, Except, Pass detected.\n",
      "./flask/tests/test_reqctx.py:55:1: S110 Try, Except, Pass detected.\n",
      "./flask/tests/test_appctx.py:64:1: S110 Try, Except, Pass detected.\n",
      "./flask/tests/test_appctx.py:83:1: S110 Try, Except, Pass detected.\n",
      "./flask/tests/test_basic.py:803:1: S110 Try, Except, Pass detected.\n",
      "./flask/tests/test_basic.py:815:1: S110 Try, Except, Pass detected.\n",
      "./flask/tests/test_basic.py:1958:1: S201 A Flask app appears to be run with debug=True, which exposes the Werkzeug debugger and allows the execution of arbitrary code.\n",
      "./flask/tests/test_testing.py:62:1: S104 Possible binding to all interfaces.\n"
     ]
    }
   ],
   "source": [
    "!flake8 --extend-ignore=S101,E203,E402,E501,CFQ002 ./flask/tests"
   ]
  },
  {
   "cell_type": "markdown",
   "id": "pleased-marathon",
   "metadata": {},
   "source": [
    "#### Flask Examples"
   ]
  },
  {
   "cell_type": "code",
   "execution_count": 3,
   "id": "sitting-grave",
   "metadata": {},
   "outputs": [
    {
     "name": "stdout",
     "output_type": "stream",
     "text": [
      "./flask/examples/tutorial/tests/conftest.py:51:1: S107 Possible hardcoded password: 'test'\n",
      "./flask/examples/tutorial/flaskr/__init__.py:9:1: S106 Possible hardcoded password: 'dev'\n"
     ]
    }
   ],
   "source": [
    "!flake8 --extend-ignore=S101,E203,E402,E501,CFQ002 ./flask/examples"
   ]
  },
  {
   "cell_type": "code",
   "execution_count": null,
   "id": "developmental-ribbon",
   "metadata": {},
   "outputs": [],
   "source": []
  }
 ],
 "metadata": {
  "kernelspec": {
   "display_name": "Python 3",
   "language": "python",
   "name": "python3"
  },
  "language_info": {
   "codemirror_mode": {
    "name": "ipython",
    "version": 3
   },
   "file_extension": ".py",
   "mimetype": "text/x-python",
   "name": "python",
   "nbconvert_exporter": "python",
   "pygments_lexer": "ipython3",
   "version": "3.8.5"
  }
 },
 "nbformat": 4,
 "nbformat_minor": 5
}
