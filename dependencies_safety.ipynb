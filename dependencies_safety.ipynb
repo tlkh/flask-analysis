{
 "cells": [
  {
   "cell_type": "markdown",
   "id": "adapted-update",
   "metadata": {},
   "source": [
    "Scanning flask's package dependencies to check for outdated packages and security vulnerabilities in packages."
   ]
  },
  {
   "cell_type": "markdown",
   "id": "integral-brick",
   "metadata": {},
   "source": [
    "#### Main Flask Package"
   ]
  },
  {
   "cell_type": "markdown",
   "id": "endangered-shaft",
   "metadata": {},
   "source": [
    "Checking current minimum allowed versions."
   ]
  },
  {
   "cell_type": "code",
   "execution_count": 1,
   "id": "unlike-electricity",
   "metadata": {},
   "outputs": [
    {
     "name": "stdout",
     "output_type": "stream",
     "text": [
      "Jinja2 (2.10.1) is 665 days out of date. Latest is 2.11.3\n",
      "itsdangerous (0.24) is 1673 days out of date. Latest is 1.1.0\n",
      "click (5.1) is 1715 days out of date. Latest is 7.1.2\n",
      "Your requirements are 4053 days out of date\n",
      "+==============================================================================+\n",
      "|                                                                              |\n",
      "|                               /$$$$$$            /$$                         |\n",
      "|                              /$$__  $$          | $$                         |\n",
      "|           /$$$$$$$  /$$$$$$ | $$  \\__//$$$$$$  /$$$$$$   /$$   /$$           |\n",
      "|          /$$_____/ |____  $$| $$$$   /$$__  $$|_  $$_/  | $$  | $$           |\n",
      "|         |  $$$$$$   /$$$$$$$| $$_/  | $$$$$$$$  | $$    | $$  | $$           |\n",
      "|          \\____  $$ /$$__  $$| $$    | $$_____/  | $$ /$$| $$  | $$           |\n",
      "|          /$$$$$$$/|  $$$$$$$| $$    |  $$$$$$$  |  $$$$/|  $$$$$$$           |\n",
      "|         |_______/  \\_______/|__/     \\_______/   \\___/   \\____  $$           |\n",
      "|                                                          /$$  | $$           |\n",
      "|                                                         |  $$$$$$/           |\n",
      "|  by pyup.io                                              \\______/            |\n",
      "|                                                                              |\n",
      "+==============================================================================+\n",
      "| REPORT                                                                       |\n",
      "| checked 4 packages, using free DB (updated once a month)                     |\n",
      "+============================+===========+==========================+==========+\n",
      "| package                    | installed | affected                 | ID       |\n",
      "+============================+===========+==========================+==========+\n",
      "| werkzeug                   | 0.15      | >=0.15.0,<0.15.5         | 37276    |\n",
      "+==============================================================================+\n",
      "| :class:`~exceptions.BadRequestKeyError` in werkzeug 0.15.5 adds the          |\n",
      "| ``KeyError`` message to the description if ``e.show_exception`` is set to    |\n",
      "| ``True``. This is a more secure default than the original 0.15.0 behavior    |\n",
      "| and makes it easier to control without losing information.                   |\n",
      "+==============================================================================+\n",
      "| jinja2                     | 2.10.1    | >=0.0.0,<2.11.3          | 39525    |\n",
      "+==============================================================================+\n",
      "| This affects the package jinja2 from 0.0.0 and before 2.11.3. The ReDOS      |\n",
      "| vulnerability of the regex is mainly due to the sub-pattern                  |\n",
      "| [a-zA-Z0-9._-]+.[a-zA-Z0-9._-]+ This issue can be mitigated by Markdown to   |\n",
      "| format user content instead of the urlize filter, or by implementing request |\n",
      "| timeouts and limiting process memory. See CVE-2020-28493.                    |\n",
      "+==============================================================================+\u001b[0m\n"
     ]
    }
   ],
   "source": [
    "!piprot flask-setup-requirements.txt | grep 'out of date'\n",
    "!safety check --full-report -r flask-setup-requirements.txt"
   ]
  },
  {
   "cell_type": "markdown",
   "id": "accepted-swimming",
   "metadata": {},
   "source": [
    "#### Development Environment"
   ]
  },
  {
   "cell_type": "code",
   "execution_count": 2,
   "id": "parallel-private",
   "metadata": {},
   "outputs": [
    {
     "name": "stdout",
     "output_type": "stream",
     "text": [
      "identify (1.5.13) is 56 days out of date. Latest is 2.1.3\n",
      "idna (2.10) is 190 days out of date. Latest is 3.1\n",
      "pip-tools (5.5.0) is 75 days out of date. Latest is 6.0.1\n",
      "pre-commit (2.10.1) is 31 days out of date. Latest is 2.11.1\n",
      "pygments (2.7.4) is 54 days out of date. Latest is 2.8.1\n",
      "sphinx-tabs (2.0.1) is 31 days out of date. Latest is 2.1.0\n",
      "sphinx (3.5.1) is 17 days out of date. Latest is 3.5.2\n",
      "tox (3.22.0) is 15 days out of date. Latest is 3.23.0\n",
      "urllib3 (1.26.3) is 47 days out of date. Latest is 1.26.4\n",
      "virtualenv (20.4.2) is 43 days out of date. Latest is 20.4.3\n",
      "Your requirements are 559 days out of date\n",
      "+==============================================================================+\n",
      "|                                                                              |\n",
      "|                               /$$$$$$            /$$                         |\n",
      "|                              /$$__  $$          | $$                         |\n",
      "|           /$$$$$$$  /$$$$$$ | $$  \\__//$$$$$$  /$$$$$$   /$$   /$$           |\n",
      "|          /$$_____/ |____  $$| $$$$   /$$__  $$|_  $$_/  | $$  | $$           |\n",
      "|         |  $$$$$$   /$$$$$$$| $$_/  | $$$$$$$$  | $$    | $$  | $$           |\n",
      "|          \\____  $$ /$$__  $$| $$    | $$_____/  | $$ /$$| $$  | $$           |\n",
      "|          /$$$$$$$/|  $$$$$$$| $$    |  $$$$$$$  |  $$$$/|  $$$$$$$           |\n",
      "|         |_______/  \\_______/|__/     \\_______/   \\___/   \\____  $$           |\n",
      "|                                                          /$$  | $$           |\n",
      "|                                                         |  $$$$$$/           |\n",
      "|  by pyup.io                                              \\______/            |\n",
      "|                                                                              |\n",
      "+==============================================================================+\n",
      "| REPORT                                                                       |\n",
      "| checked 49 packages, using free DB (updated once a month)                    |\n",
      "+==============================================================================+\n",
      "| No known security vulnerabilities found.                                     |\n",
      "+==============================================================================+\u001b[0m\n"
     ]
    }
   ],
   "source": [
    "!piprot ./flask/requirements/dev.txt | grep 'out of date'\n",
    "!safety check --full-report -r ./flask/requirements/dev.txt"
   ]
  },
  {
   "cell_type": "markdown",
   "id": "faced-refrigerator",
   "metadata": {},
   "source": [
    "#### Doc Environment"
   ]
  },
  {
   "cell_type": "code",
   "execution_count": 3,
   "id": "incorporate-racing",
   "metadata": {},
   "outputs": [
    {
     "name": "stdout",
     "output_type": "stream",
     "text": [
      "idna (2.10) is 190 days out of date. Latest is 3.1\n",
      "pygments (2.7.4) is 54 days out of date. Latest is 2.8.1\n",
      "sphinx-tabs (2.0.1) is 31 days out of date. Latest is 2.1.0\n",
      "sphinx (3.5.1) is 17 days out of date. Latest is 3.5.2\n",
      "urllib3 (1.26.3) is 47 days out of date. Latest is 1.26.4\n",
      "Your requirements are 339 days out of date\n",
      "+==============================================================================+\n",
      "|                                                                              |\n",
      "|                               /$$$$$$            /$$                         |\n",
      "|                              /$$__  $$          | $$                         |\n",
      "|           /$$$$$$$  /$$$$$$ | $$  \\__//$$$$$$  /$$$$$$   /$$   /$$           |\n",
      "|          /$$_____/ |____  $$| $$$$   /$$__  $$|_  $$_/  | $$  | $$           |\n",
      "|         |  $$$$$$   /$$$$$$$| $$_/  | $$$$$$$$  | $$    | $$  | $$           |\n",
      "|          \\____  $$ /$$__  $$| $$    | $$_____/  | $$ /$$| $$  | $$           |\n",
      "|          /$$$$$$$/|  $$$$$$$| $$    |  $$$$$$$  |  $$$$/|  $$$$$$$           |\n",
      "|         |_______/  \\_______/|__/     \\_______/   \\___/   \\____  $$           |\n",
      "|                                                          /$$  | $$           |\n",
      "|                                                         |  $$$$$$/           |\n",
      "|  by pyup.io                                              \\______/            |\n",
      "|                                                                              |\n",
      "+==============================================================================+\n",
      "| REPORT                                                                       |\n",
      "| checked 27 packages, using free DB (updated once a month)                    |\n",
      "+==============================================================================+\n",
      "| No known security vulnerabilities found.                                     |\n",
      "+==============================================================================+\u001b[0m\n"
     ]
    }
   ],
   "source": [
    "!piprot ./flask/requirements/docs.txt | grep 'out of date'\n",
    "!safety check --full-report -r ./flask/requirements/docs.txt"
   ]
  },
  {
   "cell_type": "markdown",
   "id": "north-figure",
   "metadata": {},
   "source": [
    "#### Testing Environment"
   ]
  },
  {
   "cell_type": "code",
   "execution_count": 4,
   "id": "celtic-austin",
   "metadata": {},
   "outputs": [
    {
     "name": "stdout",
     "output_type": "stream",
     "text": [
      "+==============================================================================+\n",
      "|                                                                              |\n",
      "|                               /$$$$$$            /$$                         |\n",
      "|                              /$$__  $$          | $$                         |\n",
      "|           /$$$$$$$  /$$$$$$ | $$  \\__//$$$$$$  /$$$$$$   /$$   /$$           |\n",
      "|          /$$_____/ |____  $$| $$$$   /$$__  $$|_  $$_/  | $$  | $$           |\n",
      "|         |  $$$$$$   /$$$$$$$| $$_/  | $$$$$$$$  | $$    | $$  | $$           |\n",
      "|          \\____  $$ /$$__  $$| $$    | $$_____/  | $$ /$$| $$  | $$           |\n",
      "|          /$$$$$$$/|  $$$$$$$| $$    |  $$$$$$$  |  $$$$/|  $$$$$$$           |\n",
      "|         |_______/  \\_______/|__/     \\_______/   \\___/   \\____  $$           |\n",
      "|                                                          /$$  | $$           |\n",
      "|                                                         |  $$$$$$/           |\n",
      "|  by pyup.io                                              \\______/            |\n",
      "|                                                                              |\n",
      "+==============================================================================+\n",
      "| REPORT                                                                       |\n",
      "| checked 11 packages, using free DB (updated once a month)                    |\n",
      "+==============================================================================+\n",
      "| No known security vulnerabilities found.                                     |\n",
      "+==============================================================================+\u001b[0m\n"
     ]
    }
   ],
   "source": [
    "!piprot ./flask/requirements/tests.txt | grep 'out of date'\n",
    "!safety check --full-report -r ./flask/requirements/tests.txt"
   ]
  },
  {
   "cell_type": "code",
   "execution_count": null,
   "id": "tracked-region",
   "metadata": {},
   "outputs": [],
   "source": []
  }
 ],
 "metadata": {
  "kernelspec": {
   "display_name": "Python 3",
   "language": "python",
   "name": "python3"
  },
  "language_info": {
   "codemirror_mode": {
    "name": "ipython",
    "version": 3
   },
   "file_extension": ".py",
   "mimetype": "text/x-python",
   "name": "python",
   "nbconvert_exporter": "python",
   "pygments_lexer": "ipython3",
   "version": "3.8.5"
  }
 },
 "nbformat": 4,
 "nbformat_minor": 5
}
