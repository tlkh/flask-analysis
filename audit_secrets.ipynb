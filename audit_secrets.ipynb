{
 "cells": [
  {
   "cell_type": "markdown",
   "id": "affected-generation",
   "metadata": {},
   "source": [
    "Check for secrets left inside source code"
   ]
  },
  {
   "cell_type": "code",
   "execution_count": 1,
   "id": "extensive-television",
   "metadata": {},
   "outputs": [
    {
     "name": "stdout",
     "output_type": "stream",
     "text": [
      "        \"type\": \"Secret Keyword\",\n"
     ]
    }
   ],
   "source": [
    "# demo to show it works\n",
    "!detect-secrets scan ./test/* | grep type"
   ]
  },
  {
   "cell_type": "markdown",
   "id": "desirable-danger",
   "metadata": {},
   "source": [
    "Flask itself doesn't have this issue"
   ]
  },
  {
   "cell_type": "code",
   "execution_count": 2,
   "id": "canadian-addition",
   "metadata": {},
   "outputs": [
    {
     "name": "stdout",
     "output_type": "stream",
     "text": [
      "  \"results\": {},\n"
     ]
    }
   ],
   "source": [
    "!detect-secrets scan ./flask/* | grep results"
   ]
  },
  {
   "cell_type": "code",
   "execution_count": null,
   "id": "wicked-assurance",
   "metadata": {},
   "outputs": [],
   "source": []
  }
 ],
 "metadata": {
  "kernelspec": {
   "display_name": "Python 3",
   "language": "python",
   "name": "python3"
  },
  "language_info": {
   "codemirror_mode": {
    "name": "ipython",
    "version": 3
   },
   "file_extension": ".py",
   "mimetype": "text/x-python",
   "name": "python",
   "nbconvert_exporter": "python",
   "pygments_lexer": "ipython3",
   "version": "3.8.5"
  }
 },
 "nbformat": 4,
 "nbformat_minor": 5
}
